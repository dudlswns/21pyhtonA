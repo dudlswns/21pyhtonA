{
  "nbformat": 4,
  "nbformat_minor": 0,
  "metadata": {
    "colab": {
      "name": "Untitled0.ipynb",
      "provenance": [],
      "authorship_tag": "ABX9TyOWpXTINlA60RHX/od4+U+l",
      "include_colab_link": true
    },
    "kernelspec": {
      "name": "python3",
      "display_name": "Python 3"
    },
    "language_info": {
      "name": "python"
    }
  },
  "cells": [
    {
      "cell_type": "markdown",
      "metadata": {
        "id": "view-in-github",
        "colab_type": "text"
      },
      "source": [
        "<a href=\"https://colab.research.google.com/github/dudlswns/21pyhtonA/blob/main/Untitled0.ipynb\" target=\"_parent\"><img src=\"https://colab.research.google.com/assets/colab-badge.svg\" alt=\"Open In Colab\"/></a>"
      ]
    },
    {
      "cell_type": "code",
      "metadata": {
        "id": "YI-6smPnaUFY"
      },
      "source": [
        ""
      ],
      "execution_count": null,
      "outputs": []
    },
    {
      "cell_type": "markdown",
      "metadata": {
        "id": "_XSf_KJRbYxl"
      },
      "source": [
        "# **학습목표**\n",
        "1. python 언어에서 변수의 의미를 이해하기\n",
        "2. 기본 데이터 타입 선언하기\n",
        "  - int. float.str.bool"
      ]
    },
    {
      "cell_type": "code",
      "metadata": {
        "id": "8RYqojeAbnfQ"
      },
      "source": [
        ""
      ],
      "execution_count": null,
      "outputs": []
    },
    {
      "cell_type": "markdown",
      "metadata": {
        "id": "ihdZK5Tsb1Fb"
      },
      "source": [
        "## = 대입연산자\n",
        "- 굵은 텍스트 오른쪽 수익이나 값을 계산한 후 왼족에 명시된 변수에 해당 값을 대입\n",
        "- 변수는 해당값을 가지게 된다."
      ]
    },
    {
      "cell_type": "code",
      "metadata": {
        "id": "1w-BNzwAcTpP"
      },
      "source": [
        "a = 10 #int\n",
        "b = 11.4#loat"
      ],
      "execution_count": 7,
      "outputs": []
    },
    {
      "cell_type": "markdown",
      "metadata": {
        "id": "qN-2vGAzdADX"
      },
      "source": [
        "## **주석**\n",
        "- 코드에서 #으로 시작하는 뒷부분\n",
        "- python에서는 소스코드를 실행할 때 #을 만나면 무시\n",
        "-개발자(사람)이 보기 위한 용도로 사용"
      ]
    },
    {
      "cell_type": "markdown",
      "metadata": {
        "id": "C9TFVyeDdV0F"
      },
      "source": [
        ""
      ]
    },
    {
      "cell_type": "code",
      "metadata": {
        "id": "jcJi1DEQddse"
      },
      "source": [
        "# this line is very impor tant\n",
        "# so don't delete those line\n",
        "\n",
        "math = 76"
      ],
      "execution_count": 8,
      "outputs": []
    },
    {
      "cell_type": "markdown",
      "metadata": {
        "id": "rqXv-fHQeGlD"
      },
      "source": [
        "## **변수 값 확인법**\n",
        "- print() 함수 사용\n",
        "- 코드에 마지막에 변수 값을 위치시킨 후 실행"
      ]
    },
    {
      "cell_type": "code",
      "metadata": {
        "id": "OVaahSu-dUND"
      },
      "source": [
        "a - "
      ],
      "execution_count": null,
      "outputs": []
    },
    {
      "cell_type": "markdown",
      "metadata": {
        "id": "3u8e1Rj0e5pi"
      },
      "source": [
        ""
      ]
    }
  ]
}